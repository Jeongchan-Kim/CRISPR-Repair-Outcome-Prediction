{
  "nbformat": 4,
  "nbformat_minor": 0,
  "metadata": {
    "colab": {
      "provenance": [],
      "gpuType": "T4",
      "authorship_tag": "ABX9TyMdTrKXIcxiHppYyxgMcmoX",
      "include_colab_link": true
    },
    "kernelspec": {
      "name": "python3",
      "display_name": "Python 3"
    },
    "language_info": {
      "name": "python"
    },
    "accelerator": "GPU",
    "gpuClass": "standard"
  },
  "cells": [
    {
      "cell_type": "markdown",
      "metadata": {
        "id": "view-in-github",
        "colab_type": "text"
      },
      "source": [
        "<a href=\"https://colab.research.google.com/github/Jeongchan-Kim/CRISPR-Repair-Outcome-Prediction/blob/main/CRISPR_Repair_Outcome_Prediction.ipynb\" target=\"_parent\"><img src=\"https://colab.research.google.com/assets/colab-badge.svg\" alt=\"Open In Colab\"/></a>"
      ]
    },
    {
      "cell_type": "code",
      "execution_count": null,
      "metadata": {
        "colab": {
          "base_uri": "https://localhost:8080/",
          "height": 1000
        },
        "id": "c6dRviSlTEvn",
        "outputId": "ae460aae-1a20-4253-8504-644f347f5812"
      },
      "outputs": [
        {
          "output_type": "stream",
          "name": "stdout",
          "text": [
            "Looking in indexes: https://pypi.org/simple, https://us-python.pkg.dev/colab-wheels/public/simple/\n",
            "Collecting PyTDC\n",
            "  Downloading PyTDC-0.4.0.tar.gz (107 kB)\n",
            "\u001b[2K     \u001b[90m━━━━━━━━━━━━━━━━━━━━━━━━━━━━━━━━━━━━━━━\u001b[0m \u001b[32m107.3/107.3 kB\u001b[0m \u001b[31m4.1 MB/s\u001b[0m eta \u001b[36m0:00:00\u001b[0m\n",
            "\u001b[?25h  Preparing metadata (setup.py) ... \u001b[?25l\u001b[?25hdone\n",
            "Collecting rdkit-pypi\n",
            "  Downloading rdkit_pypi-2022.9.5-cp310-cp310-manylinux_2_17_x86_64.manylinux2014_x86_64.whl (29.4 MB)\n",
            "\u001b[2K     \u001b[90m━━━━━━━━━━━━━━━━━━━━━━━━━━━━━━━━━━━━━━━━\u001b[0m \u001b[32m29.4/29.4 MB\u001b[0m \u001b[31m40.0 MB/s\u001b[0m eta \u001b[36m0:00:00\u001b[0m\n",
            "\u001b[?25hCollecting fuzzywuzzy\n",
            "  Downloading fuzzywuzzy-0.18.0-py2.py3-none-any.whl (18 kB)\n",
            "Requirement already satisfied: numpy in /usr/local/lib/python3.10/dist-packages (from PyTDC) (1.22.4)\n",
            "Requirement already satisfied: pandas in /usr/local/lib/python3.10/dist-packages (from PyTDC) (1.5.3)\n",
            "Requirement already satisfied: tqdm in /usr/local/lib/python3.10/dist-packages (from PyTDC) (4.65.0)\n",
            "Requirement already satisfied: scikit-learn in /usr/local/lib/python3.10/dist-packages (from PyTDC) (1.2.2)\n",
            "Requirement already satisfied: seaborn in /usr/local/lib/python3.10/dist-packages (from PyTDC) (0.12.2)\n",
            "Requirement already satisfied: requests in /usr/local/lib/python3.10/dist-packages (from PyTDC) (2.27.1)\n",
            "Collecting huggingface_hub\n",
            "  Downloading huggingface_hub-0.14.1-py3-none-any.whl (224 kB)\n",
            "\u001b[2K     \u001b[90m━━━━━━━━━━━━━━━━━━━━━━━━━━━━━━━━━━━━━━\u001b[0m \u001b[32m224.5/224.5 kB\u001b[0m \u001b[31m17.0 MB/s\u001b[0m eta \u001b[36m0:00:00\u001b[0m\n",
            "\u001b[?25hCollecting dataclasses\n",
            "  Downloading dataclasses-0.6-py3-none-any.whl (14 kB)\n",
            "Requirement already satisfied: fsspec in /usr/local/lib/python3.10/dist-packages (from huggingface_hub->PyTDC) (2023.4.0)\n",
            "Requirement already satisfied: pyyaml>=5.1 in /usr/local/lib/python3.10/dist-packages (from huggingface_hub->PyTDC) (6.0)\n",
            "Requirement already satisfied: typing-extensions>=3.7.4.3 in /usr/local/lib/python3.10/dist-packages (from huggingface_hub->PyTDC) (4.5.0)\n",
            "Requirement already satisfied: packaging>=20.9 in /usr/local/lib/python3.10/dist-packages (from huggingface_hub->PyTDC) (23.1)\n",
            "Requirement already satisfied: filelock in /usr/local/lib/python3.10/dist-packages (from huggingface_hub->PyTDC) (3.12.0)\n",
            "Requirement already satisfied: pytz>=2020.1 in /usr/local/lib/python3.10/dist-packages (from pandas->PyTDC) (2022.7.1)\n",
            "Requirement already satisfied: python-dateutil>=2.8.1 in /usr/local/lib/python3.10/dist-packages (from pandas->PyTDC) (2.8.2)\n",
            "Requirement already satisfied: Pillow in /usr/local/lib/python3.10/dist-packages (from rdkit-pypi->PyTDC) (8.4.0)\n",
            "Requirement already satisfied: certifi>=2017.4.17 in /usr/local/lib/python3.10/dist-packages (from requests->PyTDC) (2022.12.7)\n",
            "Requirement already satisfied: urllib3<1.27,>=1.21.1 in /usr/local/lib/python3.10/dist-packages (from requests->PyTDC) (1.26.15)\n",
            "Requirement already satisfied: charset-normalizer~=2.0.0 in /usr/local/lib/python3.10/dist-packages (from requests->PyTDC) (2.0.12)\n",
            "Requirement already satisfied: idna<4,>=2.5 in /usr/local/lib/python3.10/dist-packages (from requests->PyTDC) (3.4)\n",
            "Requirement already satisfied: joblib>=1.1.1 in /usr/local/lib/python3.10/dist-packages (from scikit-learn->PyTDC) (1.2.0)\n",
            "Requirement already satisfied: scipy>=1.3.2 in /usr/local/lib/python3.10/dist-packages (from scikit-learn->PyTDC) (1.10.1)\n",
            "Requirement already satisfied: threadpoolctl>=2.0.0 in /usr/local/lib/python3.10/dist-packages (from scikit-learn->PyTDC) (3.1.0)\n",
            "Requirement already satisfied: matplotlib!=3.6.1,>=3.1 in /usr/local/lib/python3.10/dist-packages (from seaborn->PyTDC) (3.7.1)\n",
            "Requirement already satisfied: cycler>=0.10 in /usr/local/lib/python3.10/dist-packages (from matplotlib!=3.6.1,>=3.1->seaborn->PyTDC) (0.11.0)\n",
            "Requirement already satisfied: pyparsing>=2.3.1 in /usr/local/lib/python3.10/dist-packages (from matplotlib!=3.6.1,>=3.1->seaborn->PyTDC) (3.0.9)\n",
            "Requirement already satisfied: kiwisolver>=1.0.1 in /usr/local/lib/python3.10/dist-packages (from matplotlib!=3.6.1,>=3.1->seaborn->PyTDC) (1.4.4)\n",
            "Requirement already satisfied: fonttools>=4.22.0 in /usr/local/lib/python3.10/dist-packages (from matplotlib!=3.6.1,>=3.1->seaborn->PyTDC) (4.39.3)\n",
            "Requirement already satisfied: contourpy>=1.0.1 in /usr/local/lib/python3.10/dist-packages (from matplotlib!=3.6.1,>=3.1->seaborn->PyTDC) (1.0.7)\n",
            "Requirement already satisfied: six>=1.5 in /usr/local/lib/python3.10/dist-packages (from python-dateutil>=2.8.1->pandas->PyTDC) (1.16.0)\n",
            "Building wheels for collected packages: PyTDC\n",
            "  Building wheel for PyTDC (setup.py) ... \u001b[?25l\u001b[?25hdone\n",
            "  Created wheel for PyTDC: filename=PyTDC-0.4.0-py3-none-any.whl size=139536 sha256=1322c4154ed9df61c797e04625f017aa6338d6ee9a521b16927fef184338e40b\n",
            "  Stored in directory: /root/.cache/pip/wheels/65/da/1a/38e66a2b950c7acc0f41d3bbbc12071653d099baa5402d9c32\n",
            "Successfully built PyTDC\n",
            "Installing collected packages: fuzzywuzzy, dataclasses, rdkit-pypi, huggingface_hub, PyTDC\n",
            "Successfully installed PyTDC-0.4.0 dataclasses-0.6 fuzzywuzzy-0.18.0 huggingface_hub-0.14.1 rdkit-pypi-2022.9.5\n"
          ]
        },
        {
          "output_type": "display_data",
          "data": {
            "application/vnd.colab-display-data+json": {
              "pip_warning": {
                "packages": [
                  "dataclasses"
                ]
              }
            }
          },
          "metadata": {}
        },
        {
          "output_type": "stream",
          "name": "stdout",
          "text": [
            "Looking in indexes: https://pypi.org/simple, https://us-python.pkg.dev/colab-wheels/public/simple/\n",
            "Collecting lifelines\n",
            "  Downloading lifelines-0.27.7-py3-none-any.whl (409 kB)\n",
            "\u001b[2K     \u001b[90m━━━━━━━━━━━━━━━━━━━━━━━━━━━━━━━━━━━━━━━\u001b[0m \u001b[32m409.4/409.4 kB\u001b[0m \u001b[31m8.9 MB/s\u001b[0m eta \u001b[36m0:00:00\u001b[0m\n",
            "\u001b[?25hRequirement already satisfied: autograd>=1.5 in /usr/local/lib/python3.10/dist-packages (from lifelines) (1.5)\n",
            "Requirement already satisfied: numpy>=1.14.0 in /usr/local/lib/python3.10/dist-packages (from lifelines) (1.22.4)\n",
            "Requirement already satisfied: matplotlib>=3.0 in /usr/local/lib/python3.10/dist-packages (from lifelines) (3.7.1)\n",
            "Requirement already satisfied: pandas>=1.0.0 in /usr/local/lib/python3.10/dist-packages (from lifelines) (1.5.3)\n",
            "Requirement already satisfied: scipy>=1.2.0 in /usr/local/lib/python3.10/dist-packages (from lifelines) (1.10.1)\n",
            "Collecting autograd-gamma>=0.3\n",
            "  Downloading autograd-gamma-0.5.0.tar.gz (4.0 kB)\n",
            "  Preparing metadata (setup.py) ... \u001b[?25l\u001b[?25hdone\n",
            "Collecting formulaic>=0.2.2\n",
            "  Downloading formulaic-0.6.1-py3-none-any.whl (82 kB)\n",
            "\u001b[2K     \u001b[90m━━━━━━━━━━━━━━━━━━━━━━━━━━━━━━━━━━━━━━━━\u001b[0m \u001b[32m82.3/82.3 kB\u001b[0m \u001b[31m10.7 MB/s\u001b[0m eta \u001b[36m0:00:00\u001b[0m\n",
            "\u001b[?25hRequirement already satisfied: future>=0.15.2 in /usr/local/lib/python3.10/dist-packages (from autograd>=1.5->lifelines) (0.18.3)\n",
            "Collecting interface-meta>=1.2.0\n",
            "  Downloading interface_meta-1.3.0-py3-none-any.whl (14 kB)\n",
            "Requirement already satisfied: wrapt>=1.0 in /usr/local/lib/python3.10/dist-packages (from formulaic>=0.2.2->lifelines) (1.14.1)\n",
            "Requirement already satisfied: typing-extensions>=4.2.0 in /usr/local/lib/python3.10/dist-packages (from formulaic>=0.2.2->lifelines) (4.5.0)\n",
            "Collecting astor>=0.8\n",
            "  Downloading astor-0.8.1-py2.py3-none-any.whl (27 kB)\n",
            "Requirement already satisfied: cycler>=0.10 in /usr/local/lib/python3.10/dist-packages (from matplotlib>=3.0->lifelines) (0.11.0)\n",
            "Requirement already satisfied: python-dateutil>=2.7 in /usr/local/lib/python3.10/dist-packages (from matplotlib>=3.0->lifelines) (2.8.2)\n",
            "Requirement already satisfied: fonttools>=4.22.0 in /usr/local/lib/python3.10/dist-packages (from matplotlib>=3.0->lifelines) (4.39.3)\n",
            "Requirement already satisfied: pyparsing>=2.3.1 in /usr/local/lib/python3.10/dist-packages (from matplotlib>=3.0->lifelines) (3.0.9)\n",
            "Requirement already satisfied: contourpy>=1.0.1 in /usr/local/lib/python3.10/dist-packages (from matplotlib>=3.0->lifelines) (1.0.7)\n",
            "Requirement already satisfied: kiwisolver>=1.0.1 in /usr/local/lib/python3.10/dist-packages (from matplotlib>=3.0->lifelines) (1.4.4)\n",
            "Requirement already satisfied: packaging>=20.0 in /usr/local/lib/python3.10/dist-packages (from matplotlib>=3.0->lifelines) (23.1)\n",
            "Requirement already satisfied: pillow>=6.2.0 in /usr/local/lib/python3.10/dist-packages (from matplotlib>=3.0->lifelines) (8.4.0)\n",
            "Requirement already satisfied: pytz>=2020.1 in /usr/local/lib/python3.10/dist-packages (from pandas>=1.0.0->lifelines) (2022.7.1)\n",
            "Requirement already satisfied: six>=1.5 in /usr/local/lib/python3.10/dist-packages (from python-dateutil>=2.7->matplotlib>=3.0->lifelines) (1.16.0)\n",
            "Building wheels for collected packages: autograd-gamma\n",
            "  Building wheel for autograd-gamma (setup.py) ... \u001b[?25l\u001b[?25hdone\n",
            "  Created wheel for autograd-gamma: filename=autograd_gamma-0.5.0-py3-none-any.whl size=4049 sha256=896b78a15fd6ba324515326162a40cdd2f5378c39946ca8c224c15c666cbc6e3\n",
            "  Stored in directory: /root/.cache/pip/wheels/25/cc/e0/ef2969164144c899fedb22b338f6703e2b9cf46eeebf254991\n",
            "Successfully built autograd-gamma\n",
            "Installing collected packages: interface-meta, astor, autograd-gamma, formulaic, lifelines\n",
            "Successfully installed astor-0.8.1 autograd-gamma-0.5.0 formulaic-0.6.1 interface-meta-1.3.0 lifelines-0.27.7\n"
          ]
        }
      ],
      "source": [
        "!pip install PyTDC\n",
        "!pip install lifelines"
      ]
    },
    {
      "cell_type": "code",
      "source": [
        "from tdc.utils import retrieve_label_name_list\n",
        "label_list = retrieve_label_name_list('Leenay')"
      ],
      "metadata": {
        "id": "lALjwUnyTVhS"
      },
      "execution_count": null,
      "outputs": []
    },
    {
      "cell_type": "code",
      "source": [
        "from tdc.single_pred import CRISPROutcome\n",
        "data = CRISPROutcome(name = 'Leenay', label_name = label_list[0])\n",
        "split = data.get_split()"
      ],
      "metadata": {
        "colab": {
          "base_uri": "https://localhost:8080/"
        },
        "id": "U-PebftSTXx7",
        "outputId": "e7c690ec-764d-4ade-a6e2-d000bb68bec1"
      },
      "execution_count": null,
      "outputs": [
        {
          "output_type": "stream",
          "name": "stderr",
          "text": [
            "Downloading...\n",
            "100%|██████████| 205k/205k [00:00<00:00, 1.13MiB/s]\n",
            "Loading...\n",
            "Done!\n"
          ]
        }
      ]
    },
    {
      "cell_type": "markdown",
      "source": [
        "# **Data Preprocessing & Torch Dataloader**"
      ],
      "metadata": {
        "id": "-Nc4dU1STfML"
      }
    },
    {
      "cell_type": "code",
      "source": [
        "import torch\n",
        "from torch import nn \n",
        "import torch.nn.functional as F\n",
        "from torch.utils.data import Dataset, DataLoader\n",
        "from torch.autograd import Variable"
      ],
      "metadata": {
        "id": "TS9lWfZoTt96"
      },
      "execution_count": null,
      "outputs": []
    },
    {
      "cell_type": "code",
      "source": [
        "import numpy as np\n",
        "import pandas as pd\n",
        "from sklearn.preprocessing import OneHotEncoder\n",
        "\n",
        "class SeqProcessor:\n",
        "    def __init__(self, char, max_seq):\n",
        "        # One-hot encoding에 사용할 character 정의\n",
        "        self.char = char\n",
        "        #  ㅒne-hot 인코더 fitting\n",
        "        self.enc_dna = OneHotEncoder().fit(np.array(self.char).reshape(-1, 1))\n",
        "        # Sequence 최대 길이\n",
        "        self.max_seq = max_seq\n",
        "\n",
        "    def trans_dna(self, x: str) -> list:\n",
        "        temp = list(x.upper()) # 대문자로 바꾸기\n",
        "        temp = [i if i in self.char else '?' for i in temp] # \n",
        "\n",
        "        if len(temp) < self.max_seq:\n",
        "            # MAX_SEQ_DNA 보다 작으면 뒷부분을 ?로 채워서 MAX_SEQ_DRUG 길이의 리스트로 만들기\n",
        "            temp = temp + ['?'] * (self.max_seq-len(temp))\n",
        "        else:\n",
        "            # MAX_SEQ_DNA 보다 크면 앞에서부터 MAX_SEQ_DRUG 만큼 슬라이싱\n",
        "            temp = temp [:self.max_seq]\n",
        "\n",
        "        return temp\n",
        "\n",
        "    def dna_2_embed(self, x: list) -> np.ndarray:\n",
        "        return self.enc_dna.transform(np.array(x).reshape(-1,1)).toarray().T"
      ],
      "metadata": {
        "id": "PfBWHU5ZTp8A"
      },
      "execution_count": null,
      "outputs": []
    },
    {
      "cell_type": "code",
      "source": [
        "# Custom dataset\n",
        "class data_process_loader(Dataset):\n",
        "    def __init__(self, df: pd.DataFrame, sp: SeqProcessor):\n",
        "        self.sp = sp\n",
        "        self.df = df\n",
        "\n",
        "    def __len__(self):\n",
        "        return self.df.shape[0] \n",
        "\n",
        "    def __getitem__(self, index):\n",
        "      \n",
        "        # Target data\n",
        "        v_s = self.df.iloc[index]['GuideSeq'] \n",
        "        v_s = self.sp.trans_dna(v_s)\n",
        "        v_s = self.sp.dna_2_embed(v_s) # Target One-hot 인코딩 [26,100]\n",
        "\n",
        "        # Binding affinity (label)\n",
        "        y = self.df.iloc[index]['Y'] \n",
        "\n",
        "        return v_s, y"
      ],
      "metadata": {
        "id": "h6FNXmw_Ts-q"
      },
      "execution_count": null,
      "outputs": []
    },
    {
      "cell_type": "code",
      "source": [
        "# defince processor for dna sequence\n",
        "dna_char=['?', 'A', 'T', 'G', 'C']\n",
        "max_seq=23\n",
        "\n",
        "sp = SeqProcessor(dna_char, max_seq)"
      ],
      "metadata": {
        "id": "0Cs3rsidT19o"
      },
      "execution_count": null,
      "outputs": []
    },
    {
      "cell_type": "code",
      "source": [
        "train_dataset = data_process_loader(split[\"train\"], sp)\n",
        "valid_dataset = data_process_loader(split[\"valid\"], sp)\n",
        "test_dataset = data_process_loader(split[\"test\"], sp)"
      ],
      "metadata": {
        "id": "lx2KY5lvT4Sh"
      },
      "execution_count": null,
      "outputs": []
    },
    {
      "cell_type": "code",
      "source": [
        "# DataLoader을 위한 hyperparameter 설정\n",
        "\n",
        "params = {'batch_size': 64,\n",
        "        'shuffle': True,\n",
        "        'num_workers': 1,\n",
        "        'drop_last': False}\n",
        "\n",
        "training_generator = DataLoader(train_dataset, **params)\n",
        "valid_generator = DataLoader(valid_dataset, **params)\n",
        "test_generator = DataLoader(test_dataset, **params)"
      ],
      "metadata": {
        "id": "2gkpCvsLT6AP"
      },
      "execution_count": null,
      "outputs": []
    },
    {
      "cell_type": "code",
      "source": [
        "# Dataloader 확인해보기 \n",
        "\n",
        "for (v_s, y) in training_generator:\n",
        "    print(v_s.shape)\n",
        "    print(y)\n",
        "    break"
      ],
      "metadata": {
        "colab": {
          "base_uri": "https://localhost:8080/"
        },
        "id": "ki4C1ZLeT9HH",
        "outputId": "be9e7505-8c59-4e77-f138-18e2ba110fd1"
      },
      "execution_count": null,
      "outputs": [
        {
          "output_type": "stream",
          "name": "stdout",
          "text": [
            "torch.Size([64, 5, 23])\n",
            "tensor([0.0789, 0.1993, 0.1052, 0.3236, 0.0899, 0.0066, 0.0278, 0.1108, 0.1398,\n",
            "        0.0556, 0.0531, 0.2569, 0.0929, 0.0601, 0.4545, 0.0771, 0.0809, 0.1233,\n",
            "        0.2842, 0.0388, 0.1143, 0.3063, 0.2950, 0.1004, 0.2738, 0.0037, 0.2920,\n",
            "        0.2970, 0.0249, 0.0131, 0.2198, 0.1494, 0.7208, 0.1319, 0.2231, 0.6214,\n",
            "        0.3218, 0.2509, 0.3028, 0.0583, 0.1469, 0.0845, 0.4152, 0.3048, 0.0889,\n",
            "        0.3860, 0.0624, 0.2658, 0.2983, 0.1173, 0.1763, 0.2841, 0.1427, 0.1000,\n",
            "        0.0889, 0.5233, 0.0608, 0.1484, 0.4071, 0.1335, 0.2339, 0.0696, 0.0673,\n",
            "        0.1364], dtype=torch.float64)\n"
          ]
        }
      ]
    },
    {
      "cell_type": "code",
      "source": [
        "# Dataloader 확인해보기 \n",
        "\n",
        "for (v_s, y) in valid_generator:\n",
        "    print(v_s.shape)\n",
        "    print(y)\n",
        "    break"
      ],
      "metadata": {
        "colab": {
          "base_uri": "https://localhost:8080/"
        },
        "id": "MKYy0ZK7T-Ns",
        "outputId": "f11e9fac-5e59-48d8-f2ea-5cb1032238a9"
      },
      "execution_count": null,
      "outputs": [
        {
          "output_type": "stream",
          "name": "stdout",
          "text": [
            "torch.Size([64, 5, 23])\n",
            "tensor([0.2522, 0.4093, 0.5262, 0.2433, 0.3253, 0.1223, 0.1805, 0.0687, 0.0733,\n",
            "        0.0631, 0.0917, 0.0612, 0.2276, 0.1248, 0.2652, 0.0976, 0.2934, 0.1239,\n",
            "        0.4746, 0.0538, 0.3341, 0.1921, 0.0361, 0.0843, 0.0723, 0.1251, 0.0435,\n",
            "        0.4459, 0.3644, 0.0632, 0.3225, 0.1412, 0.1273, 0.2350, 0.1782, 0.0556,\n",
            "        0.0956, 0.2063, 0.5707, 0.0946, 0.2985, 0.2589, 0.1542, 0.0610, 0.5727,\n",
            "        0.0917, 0.0644, 0.0237, 0.0705, 0.3938, 0.1185, 0.2976, 0.3425, 0.2021,\n",
            "        0.2721, 0.5188, 0.0374, 0.0086, 0.2473, 0.0663, 0.0206, 0.0215, 0.4433,\n",
            "        0.4273], dtype=torch.float64)\n"
          ]
        }
      ]
    },
    {
      "cell_type": "code",
      "source": [
        "# Dataloader 확인해보기 \n",
        "\n",
        "for (v_s, y) in test_generator:\n",
        "    print(v_s.shape)\n",
        "    print(y)\n",
        "    break"
      ],
      "metadata": {
        "colab": {
          "base_uri": "https://localhost:8080/"
        },
        "id": "AfujqRTOT_La",
        "outputId": "1e59fe0e-fbe8-4c6d-a6e7-8f21d2dc8b00"
      },
      "execution_count": null,
      "outputs": [
        {
          "output_type": "stream",
          "name": "stdout",
          "text": [
            "torch.Size([64, 5, 23])\n",
            "tensor([0.0958, 0.1062, 0.3271, 0.1235, 0.0770, 0.1661, 0.0701, 0.3123, 0.1094,\n",
            "        0.2332, 0.5810, 0.0831, 0.1410, 0.2731, 0.3959, 0.2999, 0.3162, 0.0547,\n",
            "        0.0335, 0.0263, 0.2337, 0.0553, 0.3538, 0.1086, 0.6788, 0.2960, 0.5051,\n",
            "        0.0987, 0.5152, 0.1005, 0.2310, 0.1310, 0.2407, 0.6917, 0.1908, 0.0708,\n",
            "        0.0395, 0.0862, 0.0849, 0.1891, 0.0417, 0.2939, 0.2291, 0.2316, 0.2586,\n",
            "        0.2338, 0.5444, 0.4620, 0.4818, 0.0822, 0.1633, 0.4433, 0.2864, 0.4761,\n",
            "        0.1424, 0.3966, 0.2224, 0.3097, 0.2496, 0.1214, 0.2021, 0.0763, 0.0586,\n",
            "        0.4338], dtype=torch.float64)\n"
          ]
        }
      ]
    },
    {
      "cell_type": "markdown",
      "source": [
        "# **MODEL**"
      ],
      "metadata": {
        "id": "BJsQKVAzUBJA"
      }
    },
    {
      "cell_type": "code",
      "source": [
        "# Hyperparameter\n",
        "\n",
        "config = {\n",
        "    # dna embedding layer 설정\n",
        "    \"cnn_filters\" : [32,64,96],\n",
        "    \"cnn_kernels\" : [3,3,3],\n",
        "    \"hidden_dim\" : 256,\n",
        "    \"rnn_hid_dim\" : 64,\n",
        "    \"rnn_n_layers\" : 2,\n",
        "    \"rnn_bidirectional\" : True,\n",
        "    \"rnn_Use_GRU_LSTM\" : 'GRU',\n",
        "\n",
        "    # Classfier 설정\n",
        "    \"cls_hidden_dims\" : [1024, 512]\n",
        "    }"
      ],
      "metadata": {
        "id": "InE3VZqXUD7A"
      },
      "execution_count": null,
      "outputs": []
    },
    {
      "cell_type": "code",
      "source": [
        "class CNN_RNN(nn.Sequential):\n",
        "\n",
        "    def __init__(self, **config):\n",
        "        super(CNN_RNN, self).__init__()\n",
        "        self.config = config\n",
        "        \"\"\"\n",
        "        CNN 구현 \n",
        "        \"\"\"\n",
        "        # 레이어 별 CNN 필터 개수 \n",
        "        in_ch = [5] + config['cnn_filters']\n",
        "        self.in_ch = in_ch[-1] # 마지막 convolution 층 필터 개수\n",
        "\n",
        "        # 레이어 별 CNN kernel 사이즈\n",
        "        kernels = config['cnn_kernels']\n",
        "\n",
        "        # 전체 CNN Layer 개수\n",
        "        layer_size = len(config['cnn_filters'])\n",
        "\n",
        "        self.conv = nn.ModuleList([nn.Conv1d(in_channels = in_ch[i], # input 채널 수\n",
        "                                                out_channels = in_ch[i+1], # output 채널 수\n",
        "                                                kernel_size = kernels[i]) for i in range(layer_size)]) # kernel 사이즈\n",
        "        self.conv = self.conv.double()\n",
        "\n",
        "        # 마지막 층 사이즈 구하기\n",
        "        n_size_d = self._get_conv_output((5, 23)) # auto get the seq_len of CNN output\n",
        "\n",
        "        \"\"\"\n",
        "        RNN 구현 (LSTM / GRU)\n",
        "        \"\"\"\n",
        "        if config['rnn_Use_GRU_LSTM'] == 'LSTM':\n",
        "            self.rnn = nn.LSTM(input_size = in_ch[-1], # input feature 사이즈 (convolution 이 후 채널 개수)\n",
        "                            hidden_size = config['rnn_hid_dim'], # hidden feature 사이즈\n",
        "                            num_layers = config['rnn_n_layers'], # recurrent layer 개수\n",
        "                            batch_first = True, # If True, (batch, seq, feature) Else, (seq, batch, feature)\n",
        "                            bidirectional = config['rnn_bidirectional']) # If True, Bidirectional LSTM\n",
        "        \n",
        "        elif config['rnn_Use_GRU_LSTM'] == 'GRU':\n",
        "            self.rnn = nn.GRU(input_size = in_ch[-1], # input feature 사이즈 (convolution 이 후 채널 개수)\n",
        "                            hidden_size = config['rnn_hid_dim'], # hidden feature 사이즈\n",
        "                            num_layers = config['rnn_n_layers'], # recurrent layer 개수\n",
        "                            batch_first = True, # If True, (batch, seq, feature) Else, (seq, batch, feature\n",
        "                            bidirectional = config['rnn_bidirectional']) # If True, Bidirectional LSTM\n",
        "        else:\n",
        "            raise AttributeError('Please use LSTM or GRU.')\n",
        "\n",
        "        direction = 2 if config['rnn_bidirectional'] else 1\n",
        "        self.rnn = self.rnn.double()\n",
        "\n",
        "        # 마지막 drug 임베딩 층\n",
        "        self.fc1 = nn.Linear(config['rnn_hid_dim'] * direction * n_size_d, config['hidden_dim'])\n",
        "\n",
        "    def _get_conv_output(self, shape):\n",
        "        \n",
        "        bs = 1\n",
        "        input = Variable(torch.rand(bs, *shape))\n",
        "        output_feat = self._forward_features(input.double())\n",
        "        n_size = output_feat.data.view(bs, self.in_ch, -1).size(2)\n",
        "        return n_size\n",
        "\n",
        "    def _forward_features(self, x):\n",
        "        for l in self.conv:\n",
        "            x = F.relu(l(x))\n",
        "        return x\n",
        "\n",
        "    def forward(self, v):\n",
        "        v = self._forward_features(v.double())\n",
        "  \n",
        "        batch_size = v.size(0)\n",
        "        v = v.view(batch_size, v.size(2), -1) \n",
        "\n",
        "        if self.config['rnn_Use_GRU_LSTM'] == 'LSTM':\n",
        "            direction = 2 if self.config['rnn_bidirectional'] else 1\n",
        "            h0 = torch.randn(self.config['rnn_n_layers'] * direction, batch_size, self.config['rnn_hid_dim']).to(device) # Initialize hidden state\n",
        "            c0 = torch.randn(self.config['rnn_n_layers'] * direction, batch_size, self.config['rnn_hid_dim']).to(device) # Initialize cell state\n",
        "            v, (hn, cn) = self.rnn(v.double(), (h0.double(), c0.double()))\n",
        "        else:\n",
        "            # GRU\n",
        "            direction = 2 if self.config['rnn_bidirectional'] else 1\n",
        "            h0 = torch.randn(self.config['rnn_n_layers'] * direction, batch_size, self.config['rnn_hid_dim']).to(device)\n",
        "            v, hn = self.rnn(v.double(), h0.double())\n",
        "\n",
        "        v = torch.flatten(v, 1)\n",
        "        v = self.fc1(v.float())\n",
        "        return v"
      ],
      "metadata": {
        "id": "CPd6JnrKUMB5"
      },
      "execution_count": null,
      "outputs": []
    },
    {
      "cell_type": "code",
      "source": [
        "class Classifier(nn.Sequential):\n",
        "\tdef __init__(self, model_dna, **config):\n",
        "\n",
        "\t\tsuper(Classifier, self).__init__()\n",
        "\n",
        "\t\tself.input_dim = config['hidden_dim'] # drug feature 사이즈\n",
        "\n",
        "\t\tself.model_dna = model_dna # drug 임베딩 모델\n",
        "\n",
        "\t\tself.dropout = nn.Dropout(0.1) # dropout 적용\n",
        "\n",
        "\t\tself.hidden_dims = config['cls_hidden_dims'] # classifier hidden dimensions\n",
        "\t\tlayer_size = len(self.hidden_dims) + 1 # hidden layer 개수\n",
        "\t\tdims = [self.input_dim] + self.hidden_dims + [1] # [\"합쳐진 feature 차원 (drug + protein), hidden1, hidden2, hidden3, 1 (output layer)] \n",
        "\t\t\n",
        "\t\tself.predictor = nn.ModuleList([nn.Linear(dims[i], dims[i+1]) for i in range(layer_size)]) # classifer layers \n",
        "\n",
        "\tdef forward(self, v_s):\n",
        "\t\t# Drug/protein 임베딩\n",
        "\t\tv_s = self.model_dna(v_s)\n",
        "  \n",
        "\t\tfor i, l in enumerate(self.predictor):\n",
        "\t\t\tif i == (len(self.predictor)-1):\n",
        "\t\t\t\t# If last layer,\n",
        "\t\t\t\tv_s = l(v_s)\n",
        "\t\t\telse:\n",
        "\t\t\t\t# If Not last layer, dropout과 ReLU 적용\n",
        "\t\t\t\tv_s = F.relu(self.dropout(l(v_s)))\n",
        "\t\n",
        "\t\treturn v_s"
      ],
      "metadata": {
        "id": "D_w1L4pVUOsR"
      },
      "execution_count": null,
      "outputs": []
    },
    {
      "cell_type": "markdown",
      "source": [
        "# **MODEL Training**"
      ],
      "metadata": {
        "id": "byh32M2mUWSa"
      }
    },
    {
      "cell_type": "code",
      "source": [
        "device = torch.device('cuda' if torch.cuda.is_available() else 'cpu')\n",
        "print(f\"Device: {device}\")"
      ],
      "metadata": {
        "colab": {
          "base_uri": "https://localhost:8080/"
        },
        "id": "DEmSsfBRUZvY",
        "outputId": "e327497d-2644-4905-865b-a24ea74f9821"
      },
      "execution_count": null,
      "outputs": [
        {
          "output_type": "stream",
          "name": "stdout",
          "text": [
            "Device: cuda\n"
          ]
        }
      ]
    },
    {
      "cell_type": "code",
      "source": [
        "# model for drug\n",
        "model_dna = CNN_RNN(**config)\n",
        "\n",
        "# classifier\n",
        "model = Classifier(model_dna, **config)\n",
        "\n",
        "model = model.to(device) "
      ],
      "metadata": {
        "id": "3BBZVSLoUdNC"
      },
      "execution_count": null,
      "outputs": []
    },
    {
      "cell_type": "code",
      "source": [
        "# Hyperparameter \n",
        "\n",
        "learning_rate = 0.0001\n",
        "decay         = 0.00001\n",
        "train_epoch   = 30"
      ],
      "metadata": {
        "id": "OsRAkcc4UeU6"
      },
      "execution_count": null,
      "outputs": []
    },
    {
      "cell_type": "code",
      "source": [
        "# optimizer \n",
        "\n",
        "opt      = torch.optim.Adam(model.parameters(), lr = learning_rate, weight_decay = decay)\n",
        "loss_fn = torch.nn.MSELoss()"
      ],
      "metadata": {
        "id": "QMBUCDjsUglR"
      },
      "execution_count": null,
      "outputs": []
    },
    {
      "cell_type": "markdown",
      "source": [
        "# **Training**"
      ],
      "metadata": {
        "id": "iNO36ihLUixo"
      }
    },
    {
      "cell_type": "code",
      "source": [
        "import copy\n",
        "from prettytable import PrettyTable\n",
        "from time import time\n",
        "from sklearn.metrics import mean_squared_error\n",
        "from scipy.stats import pearsonr\n",
        "from lifelines.utils import concordance_index"
      ],
      "metadata": {
        "id": "P7manL3lUl4T"
      },
      "execution_count": null,
      "outputs": []
    },
    {
      "cell_type": "code",
      "source": [
        "loss_history = []\n",
        "\n",
        "max_MSE = 10000\n",
        "\n",
        "\n",
        "# Best 모델 초기화\n",
        "model_max = copy.deepcopy(model)\n",
        "\n",
        "# 결과 정리를 위한 PrettyTable\n",
        "valid_metric_record = []\n",
        "valid_metric_header = [\"# epoch\"] \n",
        "valid_metric_header.extend([\"MSE\", \"Pearson Correlation\", \"with p-value\", \"Concordance Index\"])\n",
        "table = PrettyTable(valid_metric_header)\n",
        "\n",
        "float2str = lambda x:'%0.4f'%x # float 소숫점 4자리까지만 str로 바꾸기 \n",
        "\n",
        "# 학습 진행\n",
        "print('--- Go for Training ---')\n",
        "# 학습 시작 시간 기록 \n",
        "t_start = time() \n",
        "\n",
        "for epo in range(train_epoch):\n",
        "    # Model training \n",
        "    model.train()\n",
        "    \n",
        "    # Mini-batch 학습 \n",
        "    for i, (v_s, label) in enumerate(training_generator):\n",
        "        # input data gpu에 올리기 \n",
        "        v_s = v_s.float().to(device) \n",
        "        # forward-pass\n",
        "        score = model(v_s) \n",
        "\n",
        "        n = torch.squeeze(score, 1)\n",
        "\n",
        "        # 미리 정의한 손실함수(MSE)로 손실(loss) 계산 \n",
        "        loss = loss_fn(n.float(), label.float().to(device))\n",
        "\n",
        "        # 각 iteration 마다 loss 기록 \n",
        "        loss_history.append(loss.item())\n",
        "\n",
        "        # gradient 초기화\n",
        "        opt.zero_grad()\n",
        "        # back propagation\n",
        "        loss.backward()\n",
        "        # parameter update\n",
        "        opt.step()\n",
        "    \n",
        "    # gradient tracking X\n",
        "    with torch.set_grad_enabled(False):\n",
        "        \n",
        "        y_pred = []\n",
        "        y_label = []\n",
        "        # model validation\n",
        "        model.eval()\n",
        "\n",
        "        for i, (v_s, label) in enumerate(valid_generator):\n",
        "            # validation 입력 데이터 gpu에 올리기\n",
        "            v_s = v_s.float().to(device)\n",
        "\n",
        "            # forward-pass\n",
        "            score = model(v_s)\n",
        "\n",
        "            # \b예측값, 참값 cpu로 옮기고 numpy 형으로 변환\n",
        "            logits = torch.squeeze(score).cpu().numpy()\n",
        "            label_ids = label.cpu().numpy()\n",
        "\n",
        "            # 예측값, 참값 기록하기\n",
        "            y_label = y_label + label_ids.flatten().tolist()\n",
        "            y_pred = y_pred + logits.flatten().tolist()\n",
        "    \n",
        "    # metric 계산\n",
        "    mse = mean_squared_error(y_label, y_pred) # MSE \n",
        "    r2 = pearsonr(y_label, y_pred)[0] # Pearson correlation coefficient\n",
        "    p_val = pearsonr(y_label, y_pred)[1] # Pearson correlation p-value\n",
        "    CI =  concordance_index(y_label, y_pred) # CI \n",
        "\n",
        "    # 계산한 metric 합치기\n",
        "    lst = [\"epoch \" + str(epo)] + list(map(float2str,[mse, r2, p_val, CI]))\n",
        "\n",
        "    # 각 epoch 마다 결과값 pretty table에 기록\n",
        "    table.add_row(lst)\n",
        "    valid_metric_record.append(lst)\n",
        "    \n",
        "    # mse 기준으로 best model 업데이트\n",
        "    if mse < max_MSE:\n",
        "        # best model deepcopy \n",
        "        model_max = copy.deepcopy(model)\n",
        "        # max MSE 업데이트 \n",
        "        max_MSE = mse\n",
        "\n",
        "    # 각 epoch 마다 결과 출력 \n",
        "    print('Validation at Epoch '+ str(epo + 1) + ' , MSE: ' + str(mse)[:7] + ' , Pearson Correlation: '\\\n",
        "\t\t\t\t\t\t + str(r2)[:7] + ' with p-value: ' + str(f\"{p_val:.2E}\") +' , Concordance Index: '+str(CI)[:7])"
      ],
      "metadata": {
        "colab": {
          "base_uri": "https://localhost:8080/"
        },
        "id": "ZZdCxh7uUtGo",
        "outputId": "ec8bf202-6e7f-4ed7-e9d3-379fc7c950af"
      },
      "execution_count": null,
      "outputs": [
        {
          "output_type": "stream",
          "name": "stdout",
          "text": [
            "--- Go for Training ---\n",
            "Validation at Epoch 1 , MSE: 0.02501 , Pearson Correlation: 0.10154 with p-value: 2.13E-01 , Concordance Index: 0.51516\n",
            "Validation at Epoch 2 , MSE: 0.02508 , Pearson Correlation: 0.11372 with p-value: 1.63E-01 , Concordance Index: 0.53424\n",
            "Validation at Epoch 3 , MSE: 0.02550 , Pearson Correlation: -0.0356 with p-value: 6.63E-01 , Concordance Index: 0.49468\n",
            "Validation at Epoch 4 , MSE: 0.02536 , Pearson Correlation: 0.05929 with p-value: 4.68E-01 , Concordance Index: 0.50941\n",
            "Validation at Epoch 5 , MSE: 0.02585 , Pearson Correlation: 0.00516 with p-value: 9.50E-01 , Concordance Index: 0.50113\n",
            "Validation at Epoch 6 , MSE: 0.02530 , Pearson Correlation: 0.02844 with p-value: 7.28E-01 , Concordance Index: 0.50287\n",
            "Validation at Epoch 7 , MSE: 0.02545 , Pearson Correlation: -0.0132 with p-value: 8.71E-01 , Concordance Index: 0.47324\n",
            "Validation at Epoch 8 , MSE: 0.02462 , Pearson Correlation: 0.17737 with p-value: 2.88E-02 , Concordance Index: 0.56369\n",
            "Validation at Epoch 9 , MSE: 0.02314 , Pearson Correlation: 0.42289 with p-value: 5.71E-08 , Concordance Index: 0.65249\n",
            "Validation at Epoch 10 , MSE: 0.02283 , Pearson Correlation: 0.46326 with p-value: 1.86E-09 , Concordance Index: 0.66338\n",
            "Validation at Epoch 11 , MSE: 0.01746 , Pearson Correlation: 0.59495 with p-value: 6.34E-16 , Concordance Index: 0.72141\n",
            "Validation at Epoch 12 , MSE: 0.01557 , Pearson Correlation: 0.61931 with p-value: 1.81E-17 , Concordance Index: 0.72385\n",
            "Validation at Epoch 13 , MSE: 0.01501 , Pearson Correlation: 0.67952 with p-value: 6.33E-22 , Concordance Index: 0.74712\n",
            "Validation at Epoch 14 , MSE: 0.01281 , Pearson Correlation: 0.70139 with p-value: 8.07E-24 , Concordance Index: 0.75749\n",
            "Validation at Epoch 15 , MSE: 0.01172 , Pearson Correlation: 0.73069 with p-value: 1.21E-26 , Concordance Index: 0.76795\n",
            "Validation at Epoch 16 , MSE: 0.01240 , Pearson Correlation: 0.71695 with p-value: 2.83E-25 , Concordance Index: 0.76063\n",
            "Validation at Epoch 17 , MSE: 0.01538 , Pearson Correlation: 0.70813 with p-value: 1.94E-24 , Concordance Index: 0.76010\n",
            "Validation at Epoch 18 , MSE: 0.01161 , Pearson Correlation: 0.75910 with p-value: 9.22E-30 , Concordance Index: 0.78075\n",
            "Validation at Epoch 19 , MSE: 0.01112 , Pearson Correlation: 0.75766 with p-value: 1.36E-29 , Concordance Index: 0.77283\n",
            "Validation at Epoch 20 , MSE: 0.01201 , Pearson Correlation: 0.74066 with p-value: 1.08E-27 , Concordance Index: 0.76925\n",
            "Validation at Epoch 21 , MSE: 0.01076 , Pearson Correlation: 0.76180 with p-value: 4.43E-30 , Concordance Index: 0.77718\n",
            "Validation at Epoch 22 , MSE: 0.01321 , Pearson Correlation: 0.74644 with p-value: 2.54E-28 , Concordance Index: 0.77134\n",
            "Validation at Epoch 23 , MSE: 0.01117 , Pearson Correlation: 0.75112 with p-value: 7.63E-29 , Concordance Index: 0.77413\n",
            "Validation at Epoch 24 , MSE: 0.01157 , Pearson Correlation: 0.75321 with p-value: 4.42E-29 , Concordance Index: 0.77596\n",
            "Validation at Epoch 25 , MSE: 0.01273 , Pearson Correlation: 0.77508 with p-value: 1.03E-31 , Concordance Index: 0.78851\n",
            "Validation at Epoch 26 , MSE: 0.01082 , Pearson Correlation: 0.76138 with p-value: 4.97E-30 , Concordance Index: 0.78258\n",
            "Validation at Epoch 27 , MSE: 0.01059 , Pearson Correlation: 0.76756 with p-value: 8.94E-31 , Concordance Index: 0.78929\n",
            "Validation at Epoch 28 , MSE: 0.01064 , Pearson Correlation: 0.76578 with p-value: 1.48E-30 , Concordance Index: 0.78171\n",
            "Validation at Epoch 29 , MSE: 0.01094 , Pearson Correlation: 0.76871 with p-value: 6.46E-31 , Concordance Index: 0.78703\n",
            "Validation at Epoch 30 , MSE: 0.01010 , Pearson Correlation: 0.77736 with p-value: 5.28E-32 , Concordance Index: 0.77771\n"
          ]
        }
      ]
    },
    {
      "cell_type": "code",
      "source": [
        "# Test 진행할 데이터 확인 \n",
        "for i, (v_d, label) in enumerate(test_dataset):\n",
        "    print(v_d)\n",
        "    print(label)\n",
        "    break"
      ],
      "metadata": {
        "colab": {
          "base_uri": "https://localhost:8080/"
        },
        "id": "XKyc-EbYUwxB",
        "outputId": "9b1e2fcd-6cb2-4df2-ad18-5447041a300d"
      },
      "execution_count": null,
      "outputs": [
        {
          "output_type": "stream",
          "name": "stdout",
          "text": [
            "[[0. 0. 0. 0. 0. 0. 0. 0. 0. 0. 0. 0. 0. 0. 0. 0. 0. 0. 0. 0. 0. 0. 0.]\n",
            " [0. 0. 0. 0. 0. 1. 1. 0. 1. 0. 0. 0. 0. 0. 0. 1. 0. 0. 1. 1. 0. 0. 0.]\n",
            " [0. 0. 0. 0. 1. 0. 0. 0. 0. 0. 1. 0. 0. 0. 0. 0. 1. 0. 0. 0. 0. 0. 0.]\n",
            " [0. 1. 0. 1. 0. 0. 0. 0. 0. 0. 0. 0. 1. 1. 0. 0. 0. 0. 0. 0. 1. 1. 1.]\n",
            " [1. 0. 1. 0. 0. 0. 0. 1. 0. 1. 0. 1. 0. 0. 1. 0. 0. 1. 0. 0. 0. 0. 0.]]\n",
            "0.1766602192134107\n"
          ]
        }
      ]
    },
    {
      "cell_type": "markdown",
      "source": [
        "# **TEST**"
      ],
      "metadata": {
        "id": "NFgoePyXUyVL"
      }
    },
    {
      "cell_type": "code",
      "source": [
        "y_pred = []\n",
        "y_label = []\n",
        "\n",
        "model.eval()\n",
        "for i, (v_s, label) in enumerate(test_generator):\n",
        "    # input data gpu에 올리기 \n",
        "    v_s = v_s.float().to(device)\n",
        "\n",
        "    # forward-pass\n",
        "    score = model(v_s)\n",
        "\n",
        "    # 예측값 gradient graph detach -> cpu로 옮기기 -> numpy 형으로 변환 \n",
        "    logits = torch.squeeze(score).detach().cpu().numpy()\n",
        "\n",
        "    # 참값 cpu로 옮기고 numpy 형으로 변환 \n",
        "    label_ids = label.cpu().numpy()\n",
        "\n",
        "    # 예측값, 참값 기록\n",
        "    y_label = y_label + label_ids.flatten().tolist()\n",
        "    y_pred = y_pred + logits.flatten().tolist()\n",
        "\n",
        "# metric 계산\n",
        "mse = mean_squared_error(y_label, y_pred)\n",
        "r2 = pearsonr(y_label, y_pred)[0]\n",
        "p_val = pearsonr(y_label, y_pred)[1]\n",
        "CI =  concordance_index(y_label, y_pred)\n",
        "\n",
        "print('TestSet Performence Metric '+  ' , MSE: ' + str(mse)[:7] + ' , Pearson Correlation: '\\\n",
        "        + str(r2)[:7] + ' with p-value: ' + str(f\"{p_val:.2E}\") +' , Concordance Index: '+str(CI)[:7])"
      ],
      "metadata": {
        "colab": {
          "base_uri": "https://localhost:8080/"
        },
        "id": "MU39XAf_U1Kl",
        "outputId": "231f221c-f61d-442f-b00f-5cd3a7036e91"
      },
      "execution_count": null,
      "outputs": [
        {
          "output_type": "stream",
          "name": "stdout",
          "text": [
            "TestSet Performence Metric  , MSE: 0.01012 , Pearson Correlation: 0.75650 with p-value: 1.21E-57 , Concordance Index: 0.78115\n"
          ]
        }
      ]
    },
    {
      "cell_type": "code",
      "source": [
        "# 최종 테스트 결과 시각화 \n",
        "import matplotlib.pyplot as plt\n",
        "\n",
        "# 참값 ~ 예측값 scatter plot \n",
        "plt.figure(figsize=(10,10))\n",
        "plt.scatter(y_label, y_pred, c='crimson')\n",
        "plt.yscale('log')\n",
        "plt.xscale('log')\n",
        "\n",
        "p1 = max(max(y_pred), max(y_label))\n",
        "p2 = min(min(y_pred), min(y_label))\n",
        "plt.plot([p1, p2], [p1, p2], 'b-')\n",
        "plt.xlabel('True Values', fontsize=15)\n",
        "plt.ylabel('Predictions', fontsize=15)\n",
        "plt.axis('equal')\n",
        "plt.title('CRISPR Repair Outcome Prediction')\n",
        "plt.show()"
      ],
      "metadata": {
        "colab": {
          "base_uri": "https://localhost:8080/",
          "height": 856
        },
        "id": "l3kF5_W-U6g5",
        "outputId": "6ba47438-d82d-47b4-9e07-a81301879ec7"
      },
      "execution_count": null,
      "outputs": [
        {
          "output_type": "display_data",
          "data": {
            "text/plain": [
              "<Figure size 1000x1000 with 1 Axes>"
            ],
            "image/png": "[encoded data removed]"
          },
          "metadata": {}
        }
      ]
    }
  ]
}